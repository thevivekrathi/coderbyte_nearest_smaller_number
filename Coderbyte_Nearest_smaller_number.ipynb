{
  "nbformat": 4,
  "nbformat_minor": 0,
  "metadata": {
    "colab": {
      "name": "Coderbyte_Nearest_smaller_number.ipynb",
      "provenance": [],
      "authorship_tag": "ABX9TyPXK1QTpiF9xzToyWN9nN/4",
      "include_colab_link": true
    },
    "kernelspec": {
      "name": "python3",
      "display_name": "Python 3"
    },
    "language_info": {
      "name": "python"
    }
  },
  "cells": [
    {
      "cell_type": "markdown",
      "metadata": {
        "id": "view-in-github",
        "colab_type": "text"
      },
      "source": [
        "<a href=\"https://colab.research.google.com/github/thevivekrathi/coderbyte_nearest_smaller_number/blob/main/Coderbyte_Nearest_smaller_number.ipynb\" target=\"_parent\"><img src=\"https://colab.research.google.com/assets/colab-badge.svg\" alt=\"Open In Colab\"/></a>"
      ]
    },
    {
      "cell_type": "markdown",
      "metadata": {
        "id": "wMIquhmNpQPV"
      },
      "source": [
        "### This notebook is a solution to coberbyte challenge that ask you to find the neareat smaller value.\n",
        "\n",
        "### **Problem:** For any value in the list, if there is a smaller number available towards the left then print the nearest smaller number, otherwise print -1."
      ]
    },
    {
      "cell_type": "code",
      "metadata": {
        "id": "r-SQTKZwo_3y"
      },
      "source": [
        "arr = [5, 3, 1, 9, 7, 3, 4, 1]"
      ],
      "execution_count": 1,
      "outputs": []
    },
    {
      "cell_type": "code",
      "metadata": {
        "colab": {
          "base_uri": "https://localhost:8080/"
        },
        "id": "hgHyxETIqcJ-",
        "outputId": "6521c1fb-9ea2-4b4a-a680-cbad3f7801fc"
      },
      "source": [
        "rslt = []\n",
        "for i in range(len(arr)):\n",
        "  if i == 0:\n",
        "    rslt.append(-1)\n",
        "    print(rslt)\n",
        "  elif arr[i] > arr[i-1]:\n",
        "    rslt.append(arr[i-1])\n",
        "    print(rslt)\n",
        "  elif arr[i] < arr[i-1]:\n",
        "    for j in range(i-1, 0,-1):\n",
        "      if arr[j] < arr[i]:\n",
        "        rslt.append(arr[j])\n",
        "        print(rslt)\n",
        "        break\n",
        "    else:\n",
        "      rslt.append(-1)\n",
        "      print(rslt)\n"
      ],
      "execution_count": 2,
      "outputs": [
        {
          "output_type": "stream",
          "text": [
            "[-1]\n",
            "[-1, -1]\n",
            "[-1, -1, -1]\n",
            "[-1, -1, -1, 1]\n",
            "[-1, -1, -1, 1, 1]\n",
            "[-1, -1, -1, 1, 1, 1]\n",
            "[-1, -1, -1, 1, 1, 1, 3]\n",
            "[-1, -1, -1, 1, 1, 1, 3, -1]\n"
          ],
          "name": "stdout"
        }
      ]
    },
    {
      "cell_type": "code",
      "metadata": {
        "id": "EzGNlOPeqAhx"
      },
      "source": [
        "def NearestSmallerValues(arr):\n",
        "\n",
        "  result = []  \n",
        "  for i in range(len(arr)):\n",
        "    if i == 0:\n",
        "      result.append(-1)\n",
        "    elif arr[i] >= arr[i-1]:\n",
        "      result.append(arr[i-1])\n",
        "    else:\n",
        "      for j in range(i-1, 0, -1):\n",
        "        if arr[j] <= arr[i]:\n",
        "          result.append(arr[j])\n",
        "          break\n",
        "      else:\n",
        "        result.append(-1)\n",
        "  \n",
        "  arr = ' '.join(str(k) for k in result)\n",
        "\n",
        "  return arr"
      ],
      "execution_count": 3,
      "outputs": []
    },
    {
      "cell_type": "code",
      "metadata": {
        "colab": {
          "base_uri": "https://localhost:8080/",
          "height": 35
        },
        "id": "sG2mjeH9ql-l",
        "outputId": "36eeb689-f4ad-49e5-d1e4-28b27b608a37"
      },
      "source": [
        "NearestSmallerValues(arr)"
      ],
      "execution_count": 4,
      "outputs": [
        {
          "output_type": "execute_result",
          "data": {
            "application/vnd.google.colaboratory.intrinsic+json": {
              "type": "string"
            },
            "text/plain": [
              "'-1 -1 -1 1 1 1 3 1'"
            ]
          },
          "metadata": {
            "tags": []
          },
          "execution_count": 4
        }
      ]
    },
    {
      "cell_type": "code",
      "metadata": {
        "colab": {
          "base_uri": "https://localhost:8080/",
          "height": 52
        },
        "id": "irUPbhZvqG9n",
        "outputId": "f77944b0-9037-43c9-ac0d-4c23d9bf26f7"
      },
      "source": [
        "NearestSmallerValues(input())"
      ],
      "execution_count": 5,
      "outputs": [
        {
          "output_type": "stream",
          "text": [
            "2589453278\n"
          ],
          "name": "stdout"
        },
        {
          "output_type": "execute_result",
          "data": {
            "application/vnd.google.colaboratory.intrinsic+json": {
              "type": "string"
            },
            "text/plain": [
              "'-1 2 5 8 -1 4 -1 -1 2 7'"
            ]
          },
          "metadata": {
            "tags": []
          },
          "execution_count": 5
        }
      ]
    }
  ]
}